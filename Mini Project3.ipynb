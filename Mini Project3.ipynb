{
 "cells": [
  {
   "cell_type": "markdown",
   "id": "61e93e0a",
   "metadata": {},
   "source": [
    "## Q4. Create a simple Card game in which there are 8 cards which are randomly chosen from a deck. The first card is shown face up. The game asks the player to predict whether the next card in the selection will have a higher or lower value than the currently showing card.\n",
    "## For example, say the card that’s shown is a 3. The player chooses “higher,” and the next card is shown. If that card has a higher value, the player is correct. In this example, if the player had chosen “lower,” they would have been incorrect. If the player guesses correctly, they get 20 points. If they choose incorrectly, they lose 15 points. If the next card to be turned over has the same value as the previous card, the player is incorrect.\n"
   ]
  },
  {
   "cell_type": "code",
   "execution_count": 6,
   "id": "d8881c74",
   "metadata": {},
   "outputs": [
    {
     "name": "stdout",
     "output_type": "stream",
     "text": [
      "First card: 7\n",
      "Will the next card be higher or lower? (h/l): l\n",
      "Next card: 8\n",
      "Incorrect!\n",
      "Current points: -15\n",
      "Will the next card be higher or lower? (h/l): h\n",
      "Next card: 7\n",
      "Incorrect!\n",
      "Current points: -30\n",
      "Will the next card be higher or lower? (h/l): h\n",
      "Next card: 11\n",
      "Correct!\n",
      "Current points: -10\n",
      "Will the next card be higher or lower? (h/l): l\n",
      "Next card: 5\n",
      "Correct!\n",
      "Current points: 10\n",
      "Will the next card be higher or lower? (h/l): l\n",
      "Next card: 3\n",
      "Correct!\n",
      "Current points: 30\n",
      "Will the next card be higher or lower? (h/l): h\n",
      "Next card: 2\n",
      "Incorrect!\n",
      "Current points: 15\n",
      "Will the next card be higher or lower? (h/l): h\n",
      "Next card: 1\n",
      "Incorrect!\n",
      "Current points: 0\n",
      "Final points: 0\n"
     ]
    }
   ],
   "source": [
    "import random\n",
    "\n",
    "def card_game():\n",
    "    deck = list(range(1, 14)) * 4\n",
    "    random.shuffle(deck)\n",
    "    selection = deck[:8]\n",
    "    \n",
    "    points = 0\n",
    "    current_card = selection[0]\n",
    "    print(f\"First card: {current_card}\")\n",
    "\n",
    "    for next_card in selection[1:]:\n",
    "        guess = input(\"Will the next card be higher or lower? (h/l): \").strip().lower()\n",
    "        print(f\"Next card: {next_card}\")\n",
    "        \n",
    "        if (guess == 'h' and next_card > current_card) or (guess == 'l' and next_card < current_card):\n",
    "            points += 20\n",
    "            print(\"Correct!\")\n",
    "        else:\n",
    "            points -= 15\n",
    "            print(\"Incorrect!\")\n",
    "        \n",
    "        current_card = next_card\n",
    "        print(f\"Current points: {points}\")\n",
    "    \n",
    "    print(f\"Final points: {points}\")\n",
    "\n",
    "card_game()"
   ]
  },
  {
   "cell_type": "code",
   "execution_count": null,
   "id": "9c36de65",
   "metadata": {},
   "outputs": [],
   "source": []
  }
 ],
 "metadata": {
  "kernelspec": {
   "display_name": "Python 3 (ipykernel)",
   "language": "python",
   "name": "python3"
  },
  "language_info": {
   "codemirror_mode": {
    "name": "ipython",
    "version": 3
   },
   "file_extension": ".py",
   "mimetype": "text/x-python",
   "name": "python",
   "nbconvert_exporter": "python",
   "pygments_lexer": "ipython3",
   "version": "3.9.12"
  }
 },
 "nbformat": 4,
 "nbformat_minor": 5
}
